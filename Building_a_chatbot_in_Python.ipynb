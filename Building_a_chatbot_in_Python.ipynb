{
  "nbformat": 4,
  "nbformat_minor": 0,
  "metadata": {
    "colab": {
      "provenance": [],
      "gpuType": "T4"
    },
    "kernelspec": {
      "name": "python3",
      "display_name": "Python 3"
    },
    "language_info": {
      "name": "python"
    },
    "accelerator": "GPU"
  },
  "cells": [
    {
      "cell_type": "markdown",
      "source": [
        "# Importing the required libraries"
      ],
      "metadata": {
        "id": "rwuZil7EQ9CK"
      }
    },
    {
      "cell_type": "code",
      "execution_count": 1,
      "metadata": {
        "id": "bMACf05rQvBb"
      },
      "outputs": [],
      "source": [
        "import numpy as np\n",
        "import nltk\n",
        "import string\n",
        "import random"
      ]
    },
    {
      "cell_type": "markdown",
      "source": [
        "# Importing and reading the corpus"
      ],
      "metadata": {
        "id": "-3R5NGGuRGU3"
      }
    },
    {
      "cell_type": "code",
      "source": [
        "f=open('chatbot.txt','r')\n",
        "raw_doc=f.read()\n",
        "raw_doc=raw_doc.lower() #Converts text to lowercase"
      ],
      "metadata": {
        "id": "WMvEhmiAREnl"
      },
      "execution_count": 4,
      "outputs": []
    },
    {
      "cell_type": "code",
      "source": [
        "nltk.download('punkt') #Using the Punkt tokenizer\n",
        "nltk.download('wordnet') #Using the WordNet dictionary-- lexical database for the English language\n",
        "sent_tokens = nltk.sent_tokenize(raw_doc) #Converts doc to list of sentences\n",
        "word_tokens = nltk.word_tokenize(raw_doc) #Converts doc to list of words"
      ],
      "metadata": {
        "colab": {
          "base_uri": "https://localhost:8080/"
        },
        "id": "LMdO2lIYRJUe",
        "outputId": "8ffedf6b-bf15-4367-e15c-d0e3d0363bed"
      },
      "execution_count": 5,
      "outputs": [
        {
          "output_type": "stream",
          "name": "stderr",
          "text": [
            "[nltk_data] Downloading package punkt to /root/nltk_data...\n",
            "[nltk_data]   Unzipping tokenizers/punkt.zip.\n",
            "[nltk_data] Downloading package wordnet to /root/nltk_data...\n"
          ]
        }
      ]
    },
    {
      "cell_type": "markdown",
      "source": [
        "### Example of sentence tokens"
      ],
      "metadata": {
        "id": "VLV6xAZzRYV5"
      }
    },
    {
      "cell_type": "code",
      "source": [
        "sent_tokens[:2]"
      ],
      "metadata": {
        "colab": {
          "base_uri": "https://localhost:8080/"
        },
        "id": "I425T_iqRVXL",
        "outputId": "931aa534-0690-420d-c058-481a0ee87612"
      },
      "execution_count": 6,
      "outputs": [
        {
          "output_type": "execute_result",
          "data": {
            "text/plain": [
              "['data science is an interdisciplinary academic field[1] that uses statistics, scientific computing, scientific methods, processes, algorithms and systems to extract or extrapolate knowledge and insights from potentially noisy, structured, or unstructured data.',\n",
              " '[2]\\n\\ndata science also integrates domain knowledge from the underlying application domain (e.g., natural sciences, information technology, and medicine).']"
            ]
          },
          "metadata": {},
          "execution_count": 6
        }
      ]
    },
    {
      "cell_type": "markdown",
      "source": [
        "### Example of word tokens"
      ],
      "metadata": {
        "id": "MlRqHL7lRfO1"
      }
    },
    {
      "cell_type": "code",
      "source": [
        "nltk.word_tokenize(raw_doc)[:2]"
      ],
      "metadata": {
        "colab": {
          "base_uri": "https://localhost:8080/"
        },
        "id": "P-r0R2I0RbEp",
        "outputId": "bc5e9f9b-6870-4d4e-aa08-01ae8ee1c24f"
      },
      "execution_count": 7,
      "outputs": [
        {
          "output_type": "execute_result",
          "data": {
            "text/plain": [
              "['data', 'science']"
            ]
          },
          "metadata": {},
          "execution_count": 7
        }
      ]
    },
    {
      "cell_type": "markdown",
      "source": [
        "#### **Text preprocessing**\n"
      ],
      "metadata": {
        "id": "8FC--NdnRp19"
      }
    },
    {
      "cell_type": "code",
      "source": [
        "lemmer = nltk.stem.WordNetLemmatizer()\n",
        "#WordNet is a semantically-oriented dictionary of English included in NLTK.\n",
        "def LemTokens(tokens):\n",
        "    return [lemmer.lemmatize(token) for token in tokens]\n",
        "remove_punct_dict = dict((ord(punct), None) for punct in string.punctuation)\n",
        "def LemNormalize(text):\n",
        "    return LemTokens(nltk.word_tokenize(text.lower().translate(remove_punct_dict)))"
      ],
      "metadata": {
        "id": "np3ZTPzqRlH6"
      },
      "execution_count": 8,
      "outputs": []
    },
    {
      "cell_type": "markdown",
      "source": [
        "**Defining the greeting function**"
      ],
      "metadata": {
        "id": "5-IkQ2jDRxGY"
      }
    },
    {
      "cell_type": "code",
      "source": [
        "GREET_INPUTS = (\"hello\", \"hi\", \"greetings\", \"sup\", \"what's up\",\"hey\")\n",
        "GREET_RESPONSES = [\"hi\", \"hey\", \"*nods*\", \"hi there\", \"hello\", \"I am glad! You are talking to me\"]\n",
        "def greet(sentence):\n",
        "\n",
        "    for word in sentence.split():\n",
        "        if word.lower() in GREET_INPUTS:\n",
        "            return random.choice(GREET_RESPONSES)"
      ],
      "metadata": {
        "id": "l5hQf1p3Rtq4"
      },
      "execution_count": 9,
      "outputs": []
    },
    {
      "cell_type": "markdown",
      "source": [
        "**Response generation**"
      ],
      "metadata": {
        "id": "oHwRCZhHR39w"
      }
    },
    {
      "cell_type": "code",
      "source": [
        "from sklearn.feature_extraction.text import TfidfVectorizer#information retrieval to analyze,Measures the frequency of a term (word) in a document.\n",
        "from sklearn.metrics.pairwise import cosine_similarity## compare text documents, metric that measures the similarity of two documents"
      ],
      "metadata": {
        "id": "XV0IhSWBR1m-"
      },
      "execution_count": 10,
      "outputs": []
    },
    {
      "cell_type": "code",
      "source": [
        "# Define a function named 'response' that takes a user response as input\n",
        "def response(user_response):\n",
        "    # Initialize an empty string for the response generated by the chatbot\n",
        "    robo1_response = ''\n",
        "\n",
        "    # Create a TfidfVectorizer object with LemNormalize as the tokenizer and English stop words\n",
        "    TfidfVec = TfidfVectorizer(tokenizer=LemNormalize, stop_words='english')\n",
        "\n",
        "    # Fit and transform the TfidfVectorizer on the existing sentences (sent_tokens)\n",
        "    tfidf = TfidfVec.fit_transform(sent_tokens)\n",
        "\n",
        "    # Calculate cosine similarity between the TF-IDF vector of the user response and all other sentences\n",
        "    vals = cosine_similarity(tfidf[-1], tfidf)\n",
        "\n",
        "    # Get the index of the sentence with the second highest cosine similarity\n",
        "    idx = vals.argsort()[0][-2]\n",
        "\n",
        "    # Flatten the cosine similarity values, sort them, and get the second highest value\n",
        "    flat = vals.flatten()\n",
        "    flat.sort()\n",
        "    req_tfidf = flat[-2]\n",
        "\n",
        "    # Check if the second highest TF-IDF value is 0 (no significant match)\n",
        "    if req_tfidf == 0:\n",
        "        robo1_response = robo1_response + \"I am sorry! I don't understand you\"\n",
        "        return robo1_response\n",
        "    else:\n",
        "        # Get the response from the sentence with the second highest cosine similarity\n",
        "        robo1_response = robo1_response + sent_tokens[idx]\n",
        "        return robo1_response\n"
      ],
      "metadata": {
        "id": "VmnQWoyLR7dP"
      },
      "execution_count": 11,
      "outputs": []
    },
    {
      "cell_type": "markdown",
      "source": [
        "### **Defining conversation start/end protocols**\n",
        "\n",
        "\n",
        "\n"
      ],
      "metadata": {
        "id": "WikXq7gWSCDG"
      }
    },
    {
      "cell_type": "code",
      "source": [
        "# Set the initial value of the flag to True\n",
        "flag = True\n",
        "\n",
        "# Introduction message\n",
        "print(\"BOT: My name is Stark. Let's have a conversation! Also, if you want to exit any time, just type Bye!\")\n",
        "\n",
        "# Main conversation loop\n",
        "while flag == True:\n",
        "    # Get user input\n",
        "    user_response = input()\n",
        "\n",
        "    # Convert user input to lowercase\n",
        "    user_response = user_response.lower()\n",
        "\n",
        "    # Check if user wants to end the conversation\n",
        "    if user_response != 'bye':\n",
        "        # Check for specific responses\n",
        "        if user_response == 'thanks' or user_response == 'thank you':\n",
        "            # If the user says thanks, end the conversation\n",
        "            flag = False\n",
        "            print(\"BOT: You are welcome..\")\n",
        "        else:\n",
        "            # Check if the user's input is a greeting\n",
        "            if greet(user_response) is not None:\n",
        "                print(\"BOT: \" + greet(user_response))\n",
        "            else:\n",
        "                # If not a greeting, process the user's input\n",
        "                sent_tokens.append(user_response)\n",
        "                word_tokens = word_tokens + nltk.word_tokenize(user_response)\n",
        "                final_words = list(set(word_tokens))\n",
        "                print(\"BOT: \", end=\"\")\n",
        "                print(response(user_response))\n",
        "                sent_tokens.remove(user_response)\n",
        "    else:\n",
        "        # If the user says bye, end the conversation\n",
        "        flag = False\n",
        "        print(\"BOT: Goodbye! Take care <3 \")"
      ],
      "metadata": {
        "colab": {
          "base_uri": "https://localhost:8080/"
        },
        "id": "7IIAWvySR-jC",
        "outputId": "3dd44428-95a8-4adb-d048-e00343037f93"
      },
      "execution_count": 12,
      "outputs": [
        {
          "output_type": "stream",
          "name": "stdout",
          "text": [
            "BOT: My name is Stark. Let's have a conversation! Also, if you want to exit any time, just type Bye!\n",
            "tell me about data science\n",
            "BOT: "
          ]
        },
        {
          "output_type": "stream",
          "name": "stderr",
          "text": [
            "/usr/local/lib/python3.10/dist-packages/sklearn/feature_extraction/text.py:528: UserWarning: The parameter 'token_pattern' will not be used since 'tokenizer' is not None'\n",
            "  warnings.warn(\n",
            "/usr/local/lib/python3.10/dist-packages/sklearn/feature_extraction/text.py:409: UserWarning: Your stop_words may be inconsistent with your preprocessing. Tokenizing the stop words generated tokens ['ha', 'le', 'u', 'wa'] not in stop_words.\n",
            "  warnings.warn(\n"
          ]
        },
        {
          "output_type": "stream",
          "name": "stdout",
          "text": [
            "[6] however, data science is different from computer science and information science.\n",
            "hi\n",
            "BOT: *nods*\n",
            "bye\n",
            "BOT: Goodbye! Take care <3 \n"
          ]
        }
      ]
    },
    {
      "cell_type": "code",
      "source": [
        "# Set the initial value of the flag to True\n",
        "flag = True\n",
        "\n",
        "# Introduction message\n",
        "print(\"BOT: My name is Stark. Let's have a conversation! Also, if you want to exit any time, just type Bye!\")\n",
        "\n",
        "# Main conversation loop\n",
        "while flag == True:\n",
        "    # Get user input\n",
        "    user_response = input()\n",
        "\n",
        "    # Convert user input to lowercase\n",
        "    user_response = user_response.lower()\n",
        "\n",
        "    # Check if user wants to end the conversation\n",
        "    if user_response != 'bye':\n",
        "        # Check for specific responses\n",
        "        if user_response == 'thanks' or user_response == 'thank you':\n",
        "            # If the user says thanks, end the conversation\n",
        "            flag = False\n",
        "            print(\"BOT: You are welcome..\")\n",
        "        else:\n",
        "            # Check if the user's input is a greeting\n",
        "            if greet(user_response) is not None:\n",
        "                print(\"BOT: \" + greet(user_response))\n",
        "            else:\n",
        "                # If not a greeting, process the user's input\n",
        "                sent_tokens.append(user_response)\n",
        "                word_tokens = word_tokens + nltk.word_tokenize(user_response)\n",
        "                final_words = list(set(word_tokens))\n",
        "                print(\"BOT: \", end=\"\")\n",
        "                print(response(user_response))\n",
        "                sent_tokens.remove(user_response)\n",
        "    else:\n",
        "        # If the user says bye, end the conversation\n",
        "        flag = False\n",
        "        print(\"BOT: Goodbye! Take care <3 \")"
      ],
      "metadata": {
        "colab": {
          "base_uri": "https://localhost:8080/"
        },
        "id": "ISTl2m1mSQqr",
        "outputId": "08f55022-2201-45e8-e35e-6dc96b2ebc4b"
      },
      "execution_count": 13,
      "outputs": [
        {
          "output_type": "stream",
          "name": "stdout",
          "text": [
            "BOT: My name is Stark. Let's have a conversation! Also, if you want to exit any time, just type Bye!\n",
            "hi\n",
            "BOT: I am glad! You are talking to me\n",
            "Data Science\n",
            "BOT: [6] however, data science is different from computer science and information science.\n",
            "NLP\n",
            "BOT: I am sorry! I don't understand you\n",
            "Neutral language processing\n",
            "BOT: I am sorry! I don't understand you\n",
            "bye\n",
            "BOT: Goodbye! Take care <3 \n"
          ]
        }
      ]
    },
    {
      "cell_type": "code",
      "source": [],
      "metadata": {
        "id": "-CxOeDenSnNt"
      },
      "execution_count": null,
      "outputs": []
    }
  ]
}